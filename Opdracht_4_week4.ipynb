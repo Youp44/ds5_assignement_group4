{
 "cells": [
  {
   "cell_type": "code",
   "execution_count": 7,
   "metadata": {},
   "outputs": [
    {
     "ename": "ModuleNotFoundError",
     "evalue": "No module named 'langdetect'",
     "output_type": "error",
     "traceback": [
      "\u001b[1;31m---------------------------------------------------------------------------\u001b[0m",
      "\u001b[1;31mModuleNotFoundError\u001b[0m                       Traceback (most recent call last)",
      "Cell \u001b[1;32mIn[7], line 3\u001b[0m\n\u001b[0;32m      1\u001b[0m \u001b[38;5;28;01mimport\u001b[39;00m \u001b[38;5;21;01mpandas\u001b[39;00m \u001b[38;5;28;01mas\u001b[39;00m \u001b[38;5;21;01mpd\u001b[39;00m\n\u001b[1;32m----> 3\u001b[0m \u001b[38;5;28;01mfrom\u001b[39;00m \u001b[38;5;21;01mlangdetect\u001b[39;00m \u001b[38;5;28;01mimport\u001b[39;00m detect , LangDetectException\n\u001b[0;32m      5\u001b[0m \u001b[38;5;28;01mfrom\u001b[39;00m \u001b[38;5;21;01mtextblob\u001b[39;00m \u001b[38;5;28;01mimport\u001b[39;00m TextBlob\n\u001b[0;32m      6\u001b[0m \u001b[38;5;28;01mfrom\u001b[39;00m \u001b[38;5;21;01mnltk\u001b[39;00m\u001b[38;5;21;01m.\u001b[39;00m\u001b[38;5;21;01msentiment\u001b[39;00m \u001b[38;5;28;01mimport\u001b[39;00m SentimentIntensityAnalyzer\n",
      "\u001b[1;31mModuleNotFoundError\u001b[0m: No module named 'langdetect'"
     ]
    }
   ],
   "source": [
    "import pandas as pd\n",
    "from langdetect import detect , LangDetectException\n",
    "from textblob import TextBlob\n",
    "from nltk.sentiment import SentimentIntensityAnalyzer\n",
    "import nltk\n",
    " \n",
    " \n",
    "df = pd.read_excel('tweets.xlsx')\n",
    "df\n",
    " \n",
    "# functie om tekijken welke taal de tweet\n",
    "def detect_language(text):\n",
    "    try:\n",
    "        # zorgen dat de txt een string is\n",
    "        if isinstance(text, str):\n",
    "            return detect(text)\n",
    "        else:\n",
    "            return \"Unknown\"\n",
    "    except LangDetectException:\n",
    "        return \"Unknown\"\n",
    " \n",
    "# functie toepassen en nieuwe colom Language toevoegen\n",
    "df['Language'] = df['Tweet'].apply(detect_language)\n",
    " \n",
    "# Output\n",
    "for idx, row in df.iterrows():\n",
    "    print(f\"{idx} {row['Tweet']} {row['Language']}\")\n",
    " \n",
    " \n",
    "nltk.download('vader_lexicon')\n",
    " \n",
    "# SentimentIntensityAnalyzer object\n",
    "sia = SentimentIntensityAnalyzer()\n",
    " \n",
    "# sentiment van engelse tweet met textblob\n",
    "def analyze_sentiment_english(tweet):\n",
    "    blob = TextBlob(tweet)\n",
    "    polarity = blob.sentiment.polarity\n",
    "    if polarity > 0:\n",
    "        return 'positive'\n",
    "    elif polarity < 0:\n",
    "        return 'negative'\n",
    "    else:\n",
    "        return 'neutral'\n",
    " \n",
    "# functie die sentiment van niet engelse tweet checkt met sia\n",
    "def analyze_sentiment_other(tweet):\n",
    "    scores = sia.polarity_scores(tweet)\n",
    "    compound = scores['compound']\n",
    "    if compound >= 0.05:\n",
    "        return 'positive'\n",
    "    elif compound <= -0.05:\n",
    "        return 'negative'\n",
    "    else:\n",
    "        return 'neutral'\n",
    " \n",
    " \n",
    "# functies voor sentiment voor engelse en niet engelse toepassen\n",
    "def apply_sentiment_analysis(row):\n",
    "    tweet = row['Tweet']\n",
    "    language = row['Language']\n",
    "   \n",
    "    if language == 'en':\n",
    "        return analyze_sentiment_english(tweet)\n",
    "    else:\n",
    "        return analyze_sentiment_other(tweet)\n",
    " \n",
    "# nieuwe colom aanmaken\n",
    "df['sentiment'] = df.apply(apply_sentiment_analysis, axis=1)\n",
    " \n",
    " \n",
    "print(df)"
   ]
  }
 ],
 "metadata": {
  "kernelspec": {
   "display_name": "base",
   "language": "python",
   "name": "python3"
  },
  "language_info": {
   "codemirror_mode": {
    "name": "ipython",
    "version": 3
   },
   "file_extension": ".py",
   "mimetype": "text/x-python",
   "name": "python",
   "nbconvert_exporter": "python",
   "pygments_lexer": "ipython3",
   "version": "3.11.4"
  }
 },
 "nbformat": 4,
 "nbformat_minor": 2
}
