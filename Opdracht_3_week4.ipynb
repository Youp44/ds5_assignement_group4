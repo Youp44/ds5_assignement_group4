{
 "cells": [
  {
   "cell_type": "code",
   "execution_count": 1,
   "metadata": {},
   "outputs": [
    {
     "name": "stdout",
     "output_type": "stream",
     "text": [
      "The sales report has been saved to 'reportRetail.xlsx'.\n"
     ]
    }
   ],
   "source": [
    "import pandas as pd\n",
    "\n",
    "def generate_sales_report(file_path):\n",
    "    \"\"\"\n",
    "    Generates a sales report based on data from an Excel file.\n",
    "\n",
    "    Args:\n",
    "        file_path (str): The path to the Excel file.\n",
    "\n",
    "    Returns:\n",
    "        pd.DataFrame: The sales report containing total sales and contribution for categories, months, and managers.\n",
    "    \"\"\"\n",
    "    # Read the Excel file\n",
    "    data = pd.read_excel(file_path)\n",
    "\n",
    "    # Calculate total sales and contribution by category\n",
    "    category_sales = data.groupby('Category')['Sales'].sum().dropna()\n",
    "    total_sales_category = category_sales.sum()\n",
    "    category_contributions = category_sales / total_sales_category * 100\n",
    "\n",
    "    # Calculate total sales and contribution by month\n",
    "    month_sales = data.groupby('Month')['Sales'].sum()\n",
    "    total_sales_month = month_sales.sum()\n",
    "    month_contributions = month_sales / total_sales_month * 100\n",
    "\n",
    "    # Calculate total sales and contribution by manager\n",
    "    manager_sales = data.groupby('Sales Manager')['Sales'].sum()\n",
    "    total_sales_manager = manager_sales.sum()\n",
    "    manager_contributions = manager_sales / total_sales_manager * 100\n",
    "\n",
    "    # Generate the sales report\n",
    "    report = pd.DataFrame({\n",
    "        'Total Sales by Category': category_sales,\n",
    "        'Contribution Category (%)': category_contributions,\n",
    "        'Total Sales by Month': month_sales,\n",
    "        'Contribution Month (%)': month_contributions,\n",
    "        'Total Sales by Manager': manager_sales,\n",
    "        'Contribution Manager (%)': manager_contributions\n",
    "    })\n",
    "\n",
    "    # Sort the report by category, month, and manager\n",
    "    report = report.sort_values(by=['Total Sales by Category', 'Total Sales by Month', 'Total Sales by Manager'],\n",
    "                                ascending=False)\n",
    "\n",
    "    return report\n",
    "# Usage\n",
    "# Specify the file path of the Excel file\n",
    "file_path = 'detailedRetail.xlsx'\n",
    "\n",
    "# Generate the sales report\n",
    "sales_report = generate_sales_report(file_path)\n",
    "\n",
    "# Save the sales report to an Excel file\n",
    "output_file_path = 'reportRetail.xlsx'\n",
    "sales_report.to_excel(output_file_path, index=True)\n",
    "\n",
    "# Confirm the file is saved\n",
    "print(f\"The sales report has been saved to '{output_file_path}'.\")"
   ]
  }
 ],
 "metadata": {
  "kernelspec": {
   "display_name": "base",
   "language": "python",
   "name": "python3"
  },
  "language_info": {
   "codemirror_mode": {
    "name": "ipython",
    "version": 3
   },
   "file_extension": ".py",
   "mimetype": "text/x-python",
   "name": "python",
   "nbconvert_exporter": "python",
   "pygments_lexer": "ipython3",
   "version": "3.11.4"
  }
 },
 "nbformat": 4,
 "nbformat_minor": 2
}
