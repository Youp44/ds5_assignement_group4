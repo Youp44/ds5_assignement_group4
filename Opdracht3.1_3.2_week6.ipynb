{
 "cells": [
  {
   "cell_type": "code",
   "execution_count": 1,
   "metadata": {},
   "outputs": [],
   "source": [
    "import pandas as pd "
   ]
  },
  {
   "cell_type": "code",
   "execution_count": 9,
   "metadata": {},
   "outputs": [],
   "source": [
    "df_training = pd.read_excel('training.xlsx')\n",
    "df_predict = pd.read_excel('predictions_training.xlsx')"
   ]
  },
  {
   "cell_type": "code",
   "execution_count": null,
   "metadata": {},
   "outputs": [],
   "source": [
    "data_training = {\n",
    "    'min_r': [10, 20],\n",
    "    'min_c': [10, 20],\n",
    "    'max_r': [40, 50],\n",
    "    'max_c': [40, 50]\n",
    "}\n",
    "\n",
    "data_predict = {\n",
    "    'min_r': [12, 18],\n",
    "    'min_c': [12, 18],\n",
    "    'max_r': [38, 52],\n",
    "    'max_c': [38, 52]\n",
    "}\n",
    "\n",
    "# Maak de DataFrames\n",
    "df_training = pd.DataFrame(data_training)\n",
    "df_predict = pd.DataFrame(data_predict)"
   ]
  },
  {
   "cell_type": "code",
   "execution_count": null,
   "metadata": {},
   "outputs": [],
   "source": [
    "import pandas as pd\n",
    "import numpy as np\n",
    "\n",
    "\n",
    "def calculate_iou_and_mean(df_training, df_predict):\n",
    "    ious = []\n",
    "    total_iou = 0\n",
    "    count = 0\n",
    "    \n",
    "    for i, row_actual in df_training.iterrows():\n",
    "        for j, row_predicted in df_predict.iterrows():\n",
    "            # Bereken de coördinaten van de intersectie\n",
    "            inter_min_r = max(row_actual['min_r'], row_predicted['min_r'])\n",
    "            inter_min_c = max(row_actual['min_c'], row_predicted['min_c'])\n",
    "            inter_max_r = min(row_actual['max_r'], row_predicted['max_r'])\n",
    "            inter_max_c = min(row_actual['max_c'], row_predicted['max_c'])\n",
    "\n",
    "            # Bereken de oppervlakte van de intersectie\n",
    "            inter_area = max(0, inter_max_r - inter_min_r) * max(0, inter_max_c - inter_min_c)\n",
    "\n",
    "            # Bereken de oppervlakte van de echte en voorspelde boxes\n",
    "            actual_area = (row_actual['max_r'] - row_actual['min_r']) * (row_actual['max_c'] - row_actual['min_c'])\n",
    "            predicted_area = (row_predicted['max_r'] - row_predicted['min_r']) * (row_predicted['max_c'] - row_predicted['min_c'])\n",
    "\n",
    "            # Bereken de unie\n",
    "            union_area = actual_area + predicted_area - inter_area\n",
    "\n",
    "            # Bereken de IoU\n",
    "            iou = inter_area / union_area if union_area > 0 else 0\n",
    "            \n",
    "            # Opslaan van IoU\n",
    "            ious.append({'actual_box': i, 'predicted_box': j, 'iou': iou})\n",
    "            total_iou += iou\n",
    "            count += 1\n",
    "\n",
    "    # Bereken de gemiddelde IoU\n",
    "    mean_iou = total_iou / count if count > 0 else 0\n",
    "\n",
    "    # Maak een DataFrame van de IoU's\n",
    "    df_iou = pd.DataFrame(ious)\n",
    "\n",
    "    return df_iou, mean_iou\n",
    "\n",
    "# Voer de functie uit\n",
    "df_iou, mean_iou = calculate_iou_and_mean(df_training, df_predict)\n",
    "\n",
    "# Print het resultaat\n",
    "print(\"IoU between actual and predicted boxes:\")\n",
    "print(df_iou)\n",
    "\n",
    "print(f\"\\nMean IoU: {mean_iou:.4f}\")"
   ]
  }
 ],
 "metadata": {
  "kernelspec": {
   "display_name": "base",
   "language": "python",
   "name": "python3"
  },
  "language_info": {
   "codemirror_mode": {
    "name": "ipython",
    "version": 3
   },
   "file_extension": ".py",
   "mimetype": "text/x-python",
   "name": "python",
   "nbconvert_exporter": "python",
   "pygments_lexer": "ipython3",
   "version": "3.11.4"
  }
 },
 "nbformat": 4,
 "nbformat_minor": 2
}
