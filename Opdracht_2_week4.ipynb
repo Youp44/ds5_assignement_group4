{
 "cells": [
  {
   "cell_type": "code",
   "execution_count": 12,
   "metadata": {},
   "outputs": [],
   "source": [
    "import pandas as pd\n",
    "import scipy.stats as sc\n",
    "import matplotlib.pyplot as plt\n",
    "import numpy as np\n",
    "import time as t"
   ]
  },
  {
   "cell_type": "code",
   "execution_count": null,
   "metadata": {},
   "outputs": [],
   "source": [
    "# The columns 'Market' and 'Distribution Channel' are not relevant\n",
    "# Some values of adults and children are outliers. These seem to be data entry errors. So many people cannot fit one room\n",
    "# Year has missing values\n",
    "# Is_Cancelled contains a 2, but this column is binary\n",
    "# Stays_in_week_nights contains a number with a ,\n",
    "# Meal has a lot of trailing spaces\n",
    "# Country has trailing spaces and contains numbers\n",
    "# Agent and Company contains NULL and null\n",
    "# Adr numbers are not real numbers\n",
    "# Duplicates"
   ]
  },
  {
   "cell_type": "code",
   "execution_count": 29,
   "metadata": {},
   "outputs": [],
   "source": [
    "df = pd.read_excel(\"hotelBookings.xlsx\")\n",
    "\n",
    "df = df.drop_duplicates()\n",
    "df[\"company\"] = df[\"company\"].fillna(0)\n",
    "df[\"agent\"] = df[\"agent\"].fillna(0)\n",
    "df[\"stays_in_week_nights\"] = df[\"stays_in_week_nights\"].astype(int)\n",
    "df[\"arrival_date_month\"] = pd.to_datetime(df['arrival_date_month'], format='%B').dt.strftime('%m')"
   ]
  }
 ],
 "metadata": {
  "kernelspec": {
   "display_name": "base",
   "language": "python",
   "name": "python3"
  },
  "language_info": {
   "codemirror_mode": {
    "name": "ipython",
    "version": 3
   },
   "file_extension": ".py",
   "mimetype": "text/x-python",
   "name": "python",
   "nbconvert_exporter": "python",
   "pygments_lexer": "ipython3",
   "version": "3.11.4"
  }
 },
 "nbformat": 4,
 "nbformat_minor": 2
}
